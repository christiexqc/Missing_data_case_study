{
 "cells": [
  {
   "cell_type": "code",
   "execution_count": 1,
   "metadata": {},
   "outputs": [],
   "source": [
    "import pandas as pd\n",
    "pd.set_option('display.max_columns', 20)\n",
    "pd.set_option('display.width', 350)\n",
    "import seaborn as sns"
   ]
  },
  {
   "cell_type": "markdown",
   "metadata": {},
   "source": [
    "If we go by the books, the standard ways to deal with missing data are either:\n",
    "\n",
    "Remove rows including missing values\n",
    "\n",
    "Replace them with some value. This can be as easy as just using that variable average/mode, it can mean building a model to predict the missing value and replace it with the prediction, as well as countless small variations of those approaches. But at the end of the day, regardless of the actual approach we use to impute missing values, the idea is the same:\n",
    "\n",
    "Replace them with the value that we think it was the most likely to happen if that value hadn’t been missing\n",
    "\n",
    "In practice, none of those approaches would work if we are dealing with consumer data. Consumer data are full of missing values. Think about our profiles on FB, LinkedIn, Airbnb, etc. How many fields there are? And how many did \n",
    "we actually fill out? Anything that we did not fill out is a missing value in the corresponding table.\n",
    "\n",
    "The high high majority of missing values in tech companies come from the fact that the user has chosen to not give that kind of information: by not filling out her profile, or by changing her privacy settings, or even by deleting her cookies. And that’s crucial information for our predictive model that we would lose, if we were replacing or deleting the missing values as above.\n",
    "\n",
    "Therefore, the best way to deal with missing values is to code them as such in our dataset and use them throughout our analysis. If it is a categorical variable, just create a new level “missing”. If it is a continuous variable, replace the missing value with a very large/small number, clearly outside of the range of the variable, i.e. 10^9 or something like that. And then, use a model which is not affected by outliers, like for instance decision tree-based classifiers.\n",
    "\n",
    "Below we will go through a practical example of this."
   ]
  },
  {
   "cell_type": "code",
   "execution_count": 2,
   "metadata": {},
   "outputs": [],
   "source": [
    "data = pd.read_csv('./dataset/missing_data.csv')"
   ]
  },
  {
   "cell_type": "code",
   "execution_count": 3,
   "metadata": {},
   "outputs": [
    {
     "data": {
      "text/html": [
       "<div>\n",
       "<style scoped>\n",
       "    .dataframe tbody tr th:only-of-type {\n",
       "        vertical-align: middle;\n",
       "    }\n",
       "\n",
       "    .dataframe tbody tr th {\n",
       "        vertical-align: top;\n",
       "    }\n",
       "\n",
       "    .dataframe thead th {\n",
       "        text-align: right;\n",
       "    }\n",
       "</style>\n",
       "<table border=\"1\" class=\"dataframe\">\n",
       "  <thead>\n",
       "    <tr style=\"text-align: right;\">\n",
       "      <th></th>\n",
       "      <th>country</th>\n",
       "      <th>age</th>\n",
       "      <th>is_mobile</th>\n",
       "      <th>source</th>\n",
       "      <th>converted</th>\n",
       "    </tr>\n",
       "  </thead>\n",
       "  <tbody>\n",
       "    <tr>\n",
       "      <th>0</th>\n",
       "      <td>UK</td>\n",
       "      <td>33</td>\n",
       "      <td>0</td>\n",
       "      <td>Direct</td>\n",
       "      <td>0</td>\n",
       "    </tr>\n",
       "    <tr>\n",
       "      <th>1</th>\n",
       "      <td>NaN</td>\n",
       "      <td>38</td>\n",
       "      <td>1</td>\n",
       "      <td>Seo</td>\n",
       "      <td>0</td>\n",
       "    </tr>\n",
       "    <tr>\n",
       "      <th>2</th>\n",
       "      <td>NaN</td>\n",
       "      <td>46</td>\n",
       "      <td>0</td>\n",
       "      <td>Ads</td>\n",
       "      <td>0</td>\n",
       "    </tr>\n",
       "    <tr>\n",
       "      <th>3</th>\n",
       "      <td>NaN</td>\n",
       "      <td>48</td>\n",
       "      <td>1</td>\n",
       "      <td>Seo</td>\n",
       "      <td>0</td>\n",
       "    </tr>\n",
       "    <tr>\n",
       "      <th>4</th>\n",
       "      <td>Ireland</td>\n",
       "      <td>53</td>\n",
       "      <td>0</td>\n",
       "      <td>Ads</td>\n",
       "      <td>0</td>\n",
       "    </tr>\n",
       "  </tbody>\n",
       "</table>\n",
       "</div>"
      ],
      "text/plain": [
       "   country  age  is_mobile  source  converted\n",
       "0       UK   33          0  Direct          0\n",
       "1      NaN   38          1     Seo          0\n",
       "2      NaN   46          0     Ads          0\n",
       "3      NaN   48          1     Seo          0\n",
       "4  Ireland   53          0     Ads          0"
      ]
     },
     "execution_count": 3,
     "metadata": {},
     "output_type": "execute_result"
    }
   ],
   "source": [
    "data.head()"
   ]
  },
  {
   "cell_type": "code",
   "execution_count": 4,
   "metadata": {},
   "outputs": [
    {
     "data": {
      "text/plain": [
       "(120704, 5)"
      ]
     },
     "execution_count": 4,
     "metadata": {},
     "output_type": "execute_result"
    }
   ],
   "source": [
    "data.shape"
   ]
  },
  {
   "cell_type": "code",
   "execution_count": 6,
   "metadata": {},
   "outputs": [
    {
     "name": "stdout",
     "output_type": "stream",
     "text": [
      "<class 'pandas.core.frame.DataFrame'>\n",
      "RangeIndex: 120704 entries, 0 to 120703\n",
      "Data columns (total 5 columns):\n",
      " #   Column     Non-Null Count   Dtype \n",
      "---  ------     --------------   ----- \n",
      " 0   country    95502 non-null   object\n",
      " 1   age        120704 non-null  int64 \n",
      " 2   is_mobile  120704 non-null  int64 \n",
      " 3   source     120704 non-null  object\n",
      " 4   converted  120704 non-null  int64 \n",
      "dtypes: int64(3), object(2)\n",
      "memory usage: 4.6+ MB\n"
     ]
    }
   ],
   "source": [
    "data.info()"
   ]
  },
  {
   "cell_type": "markdown",
   "metadata": {},
   "source": [
    "This dataset represents hits to an e-commerce site. Each row is a user session. Columns have the following meaning:\n",
    "\n",
    "country : user country based on the info they chose to provide when filling out their profile. That field is not required at sign-up stage. If missing, it means users did not fill it out. Country levels are: France, UK, Ireland, NA\n",
    "\n",
    "age : user age. This is required at sign-up\n",
    "\n",
    "is_mobile: whether the user visited the site via the mobile app (1) or desktop (0)\n",
    "\n",
    "source : marketing channel source\n",
    "\n",
    "Ads: came to the site by clicking on an advertisement\n",
    "\n",
    "Seo: came to the site by clicking on search results\n",
    "\n",
    "Direct: came to the site by directly typing the URL on the browser\n",
    "\n",
    "converted: this is our label. 1 means they converted within the session, 0 means they left without buying anything. The company goal is to increase conversion rate: # conversions / total sessions"
   ]
  },
  {
   "cell_type": "code",
   "execution_count": 7,
   "metadata": {},
   "outputs": [
    {
     "name": "stdout",
     "output_type": "stream",
     "text": [
      "       country            age      is_mobile  source      converted\n",
      "count    95502  120704.000000  120704.000000  120704  120704.000000\n",
      "unique       3            NaN            NaN       3            NaN\n",
      "top         UK            NaN            NaN     Seo            NaN\n",
      "freq     69626            NaN            NaN   59324            NaN\n",
      "mean       NaN      44.575258       0.631006     NaN       0.169845\n",
      "std        NaN      11.661944       0.482534     NaN       0.375498\n",
      "min        NaN      17.000000       0.000000     NaN       0.000000\n",
      "25%        NaN      36.000000       0.000000     NaN       0.000000\n",
      "50%        NaN      44.000000       1.000000     NaN       0.000000\n",
      "75%        NaN      53.000000       1.000000     NaN       0.000000\n",
      "max        NaN      80.000000       1.000000     NaN       1.000000\n"
     ]
    }
   ],
   "source": [
    "import matplotlib.pyplot as plt\n",
    "from matplotlib import rcParams\n",
    "rcParams.update({'figure.autolayout': True})  \n",
    "print(data.describe(include='all'))"
   ]
  },
  {
   "cell_type": "code",
   "execution_count": 8,
   "metadata": {},
   "outputs": [
    {
     "data": {
      "text/plain": [
       "(array([0, 1, 2, 3]), <a list of 4 Text major ticklabel objects>)"
      ]
     },
     "execution_count": 8,
     "metadata": {},
     "output_type": "execute_result"
    },
    {
     "data": {
      "image/png": "[encoded data removed]",
      "text/plain": [
       "<Figure size 432x288 with 1 Axes>"
      ]
     },
     "metadata": {
      "needs_background": "light"
     },
     "output_type": "display_data"
    }
   ],
   "source": [
    "#Firstly, let's quickly check conversion rate of missing values vs non-missing values\n",
    "#Group by country and check conversion rate\n",
    "data.fillna(\"missing_country\").groupby(['country'])['converted'].mean().plot.bar()\n",
    "plt.xticks(rotation=0)"
   ]
  },
  {
   "cell_type": "markdown",
   "metadata": {},
   "source": [
    "The most important insights are already here and we can expect to find the same insights in 99% of cases when we are dealing with missing values:\n",
    "\n",
    "When there are missing values, the main metrics tend to be much worse compared to the rest of the users. This is simply self-selection bias. The least engaged users are typically those who choose to not fill out their profiles or, more generally, to not provide certain information about themselves.\n",
    "\n",
    "Let’s now build a model to predict conversion rate and see how different strategies work. Firstly we will try to replace missing values with values sampled with replacement from that variable.\n",
    "\n",
    "Sampling is a sound strategy because it gives higher weight to values that show up the most in the original data. So if UK here is >50% of total events, when we sample with replacement, there is a >50% chance of replacing the missing value with UK."
   ]
  },
  {
   "cell_type": "markdown",
   "metadata": {},
   "source": [
    "# Replacing missing values with sampling data"
   ]
  },
  {
   "cell_type": "code",
   "execution_count": 10,
   "metadata": {},
   "outputs": [
    {
     "name": "stdout",
     "output_type": "stream",
     "text": [
      "       0      1\n",
      "0  23926  10233\n",
      "1   2040   4841\n"
     ]
    }
   ],
   "source": [
    "import numpy as np\n",
    "from sklearn.ensemble import RandomForestClassifier\n",
    "from sklearn.metrics import confusion_matrix\n",
    "from sklearn.model_selection import train_test_split\n",
    "  \n",
    "#set seed to be able to reproduce the results\n",
    "np.random.seed(4684)\n",
    "  \n",
    "data_replace = data.copy()\n",
    "  \n",
    "#split into train and test to avoid overfitting\n",
    "train, test = train_test_split(data_replace, test_size = 0.34)\n",
    "train = train.reset_index(drop=True).copy()\n",
    "test =  test.reset_index(drop=True).copy()\n",
    "  \n",
    "#replace NAs with randomly selected countries according to the origianl country distribution\n",
    "train['country'] = train['country'].fillna(pd.Series(np.random.choice( train['country'].dropna() , size=len(train['country']) )))\n",
    "test['country'] = test['country'].fillna(pd.Series(np.random.choice( test['country'].dropna() , size=len(test['country']) )))\n",
    "  \n",
    "#create dummies\n",
    "train = pd.get_dummies(train, drop_first=True)\n",
    "test =  pd.get_dummies(test, drop_first=True)\n",
    "  \n",
    "#build the model. We will use a RF, but it is the same with any other model. We balance the weights to reduce class 1 errors\n",
    "rf_replace_sampling = RandomForestClassifier(n_estimators=50, oob_score=True, class_weight={0:1,1:5})\n",
    "rf_replace_sampling.fit(train.drop('converted', axis=1), train['converted'])\n",
    "  \n",
    "#and let's print test set confusion matrix\n",
    "conf_matrix_sampling = pd.DataFrame(confusion_matrix(test['converted'], rf_replace_sampling.predict(test.drop('converted', axis=1)), labels=[0, 1]))\n",
    "print(conf_matrix_sampling)"
   ]
  },
  {
   "cell_type": "code",
   "execution_count": 11,
   "metadata": {},
   "outputs": [
    {
     "name": "stdout",
     "output_type": "stream",
     "text": [
      "   accuracy  class0_error  class1_error\n",
      "0   0.70095       0.29957      0.296469\n"
     ]
    }
   ],
   "source": [
    "#let's print model accuracy and class errors\n",
    "class0_error = 1 - conf_matrix_sampling.loc[0,0]/(conf_matrix_sampling.loc[0,0]+conf_matrix_sampling.loc[0,1])\n",
    "class1_error = 1 - conf_matrix_sampling.loc[1,1]/(conf_matrix_sampling.loc[1,0]+conf_matrix_sampling.loc[1,1])\n",
    "  \n",
    "print(pd.DataFrame( {'accuracy': rf_replace_sampling.score(test.drop('converted', axis=1),test['converted']),\n",
    "                         'class0_error' :[class0_error],\n",
    "                         'class1_error' :[class1_error]\n",
    "}))"
   ]
  },
  {
   "cell_type": "code",
   "execution_count": 12,
   "metadata": {},
   "outputs": [
    {
     "data": {
      "text/plain": [
       "<matplotlib.axes._subplots.AxesSubplot at 0x1a1e2b7e10>"
      ]
     },
     "execution_count": 12,
     "metadata": {},
     "output_type": "execute_result"
    },
    {
     "data": {
      "image/png": "[encoded data removed]",
      "text/plain": [
       "<Figure size 432x288 with 1 Axes>"
      ]
     },
     "metadata": {
      "needs_background": "light"
     },
     "output_type": "display_data"
    }
   ],
   "source": [
    "#variable importance\n",
    "pd.Series(rf_replace_sampling.feature_importances_, index=train.drop('converted', axis=1).columns).sort_values(ascending=True).plot(kind='barh')"
   ]
  },
  {
   "cell_type": "markdown",
   "metadata": {},
   "source": [
    "# Leave NAs in the data"
   ]
  },
  {
   "cell_type": "markdown",
   "metadata": {},
   "source": [
    "And let’s now just replace the missing values with “missing_country”."
   ]
  },
  {
   "cell_type": "code",
   "execution_count": 13,
   "metadata": {},
   "outputs": [
    {
     "name": "stdout",
     "output_type": "stream",
     "text": [
      "       0     1\n",
      "0  25300  8680\n",
      "1   1954  5106\n"
     ]
    }
   ],
   "source": [
    "#replace missing values with \"missing_country\". Need to convert it to character and then back to factor\n",
    "data['country'] = data['country'].fillna(\"missing_country\")\n",
    "  \n",
    "#create dummy vars\n",
    "data = pd.get_dummies(data, drop_first=True)\n",
    "  \n",
    "#split test/train\n",
    "#split into train and test to avoid overfitting\n",
    "train_leave_NA, test_leave_NA = train_test_split(data, test_size = 0.34)\n",
    "  \n",
    "#build the model. We will use a RF, but it is the same with any other model. We slightly adjust the weights to reduce class 1 errors\n",
    "rf_model_leave_NA = RandomForestClassifier(n_estimators=50, oob_score=True, class_weight={0:1,1:5})\n",
    "rf_model_leave_NA.fit(train_leave_NA.drop('converted', axis=1), train_leave_NA['converted'])\n",
    "#and let's print test set confusion matrix\n",
    "conf_matrix_leave_NA = pd.DataFrame(confusion_matrix(test_leave_NA['converted'], rf_model_leave_NA.predict(test_leave_NA.drop('converted', axis=1)), labels=[0, 1]))\n",
    "print(conf_matrix_leave_NA)"
   ]
  },
  {
   "cell_type": "code",
   "execution_count": 14,
   "metadata": {},
   "outputs": [
    {
     "name": "stdout",
     "output_type": "stream",
     "text": [
      "   accuracy_leave_NA  class0_error_leave_NA  class1_error_leave_NA\n",
      "0           0.740887               0.255444               0.276771\n"
     ]
    }
   ],
   "source": [
    "#let's print model accuracy and class errors\n",
    "class0_error_leave_NA = 1 - conf_matrix_leave_NA.loc[0,0]/(conf_matrix_leave_NA.loc[0,0]+conf_matrix_leave_NA.loc[0,1])\n",
    "class1_error_leave_NA = 1 - conf_matrix_leave_NA.loc[1,1]/(conf_matrix_leave_NA.loc[1,0]+conf_matrix_leave_NA.loc[1,1])\n",
    "print(pd.DataFrame( {'accuracy_leave_NA': rf_model_leave_NA.score(test_leave_NA.drop('converted', axis=1),test_leave_NA['converted']),\n",
    "                         'class0_error_leave_NA' :[class0_error_leave_NA],\n",
    "                         'class1_error_leave_NA' :[class1_error_leave_NA]\n",
    "}))"
   ]
  },
  {
   "cell_type": "code",
   "execution_count": 15,
   "metadata": {},
   "outputs": [
    {
     "data": {
      "text/plain": [
       "<matplotlib.axes._subplots.AxesSubplot at 0x1a1ced5fd0>"
      ]
     },
     "execution_count": 15,
     "metadata": {},
     "output_type": "execute_result"
    },
    {
     "data": {
      "image/png": "[encoded data removed]",
      "text/plain": [
       "<Figure size 432x288 with 1 Axes>"
      ]
     },
     "metadata": {
      "needs_background": "light"
     },
     "output_type": "display_data"
    }
   ],
   "source": [
    "#variable importance\n",
    "pd.Series(rf_model_leave_NA.feature_importances_, index=train_leave_NA.drop('converted', axis=1).columns).sort_values(ascending=True).plot(kind='barh')"
   ]
  },
  {
   "cell_type": "markdown",
   "metadata": {},
   "source": [
    "As we can see by comparing the two variable importance plots, the dummy variable “missing_country” is extremely important by itself. By removing it, we would be losing crucial information used by the model\n",
    "\n",
    "Interestingly, the importance of the other country levels (UK and Ireland) goes down when we replace the missing values by sampling. This is because we “polluted” their information by adding new events with totally different distribution, i.e. much lower conversion rate. So we made those segments noisier and the model is having a harder time extracting information out of them\n",
    "\n",
    "The effect of those 2 points above is that the model with “missing_country” does significantly better than the one where we replaced NAs by sampling. Accuracy, class 0 error, and class 1 error are all significantly better when using “missing_country”.\n",
    "\n",
    " Always leave NAs in our data if the distribution of NAs is different compared to the distribution of that variable. This happens basically always if NAs are not random. The most common reason to have NAs is self-selection bias where the user chooses to not provide certain information\n",
    "\n",
    " If the variable is numeric, replace NAs with a very large/small number clearly outside of that variable distribution. But then make sure to use a model which is not affected by outliers. Say our variable range is between 0-100. we can then code the NAs as 10^6. Then use a tree-based classifier. That way it can create a split just for the NAs, something like var X > 10^5. If we used a regression, we would be in trouble since it would try to find a coefficient that can actually fit through the 10^6 points as well."
   ]
  },
  {
   "cell_type": "code",
   "execution_count": null,
   "metadata": {},
   "outputs": [],
   "source": []
  }
 ],
 "metadata": {
  "kernelspec": {
   "display_name": "Python 3",
   "language": "python",
   "name": "python3"
  },
  "language_info": {
   "codemirror_mode": {
    "name": "ipython",
    "version": 3
   },
   "file_extension": ".py",
   "mimetype": "text/x-python",
   "name": "python",
   "nbconvert_exporter": "python",
   "pygments_lexer": "ipython3",
   "version": "3.7.3"
  }
 },
 "nbformat": 4,
 "nbformat_minor": 2
}
